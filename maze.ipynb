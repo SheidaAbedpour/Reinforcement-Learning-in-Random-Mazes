{
 "cells": [
  {
   "cell_type": "code",
   "execution_count": 1,
   "id": "5185fde6-be38-4dcb-838e-fb91ecd9ae0e",
   "metadata": {},
   "outputs": [],
   "source": [
    "import gym\n",
    "import gym_maze"
   ]
  },
  {
   "cell_type": "code",
   "execution_count": 2,
   "id": "1f473e23-170e-4993-883d-30cd3eba771d",
   "metadata": {},
   "outputs": [],
   "source": [
    "# Create an environment\n",
    "env = gym.make(\"maze-random-10x10-plus-v0\")\n",
    "observation = env.reset()"
   ]
  },
  {
   "cell_type": "code",
   "execution_count": 3,
   "id": "1418444f-2865-4260-8b1d-337771e6f273",
   "metadata": {},
   "outputs": [],
   "source": [
    "# Define the maximum number of iterations\n",
    "NUM_EPISODES = 1000\n",
    "\n",
    "for episode in range(NUM_EPISODES):\n",
    "\n",
    "    env.render()\n",
    "\n",
    "    # TODO: Implement the agent policy here\n",
    "    # Note: .sample() is used to sample random action from the environment's action space\n",
    "\n",
    "    # Choose an action (Replace this random action with your agent's policy)\n",
    "    action = env.action_space.sample()\n",
    "\n",
    "    # Perform the action and receive feedback from the environment\n",
    "    next_state, reward, done, truncated = env.step(action)\n",
    "\n",
    "    if done or truncated:\n",
    "        observation = env.reset()\n",
    "\n",
    "# Close the environment\n",
    "env.close()"
   ]
  },
  {
   "cell_type": "code",
   "execution_count": null,
   "id": "fd6c51dd-c674-46fe-ba52-3c5913e2edd4",
   "metadata": {},
   "outputs": [],
   "source": []
  }
 ],
 "metadata": {
  "kernelspec": {
   "display_name": "Python 3 (ipykernel)",
   "language": "python",
   "name": "python3"
  },
  "language_info": {
   "codemirror_mode": {
    "name": "ipython",
    "version": 3
   },
   "file_extension": ".py",
   "mimetype": "text/x-python",
   "name": "python",
   "nbconvert_exporter": "python",
   "pygments_lexer": "ipython3",
   "version": "3.11.5"
  }
 },
 "nbformat": 4,
 "nbformat_minor": 5
}
